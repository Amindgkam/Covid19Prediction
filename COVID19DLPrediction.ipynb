{
 "cells": [
  {
   "cell_type": "code",
   "execution_count": 1,
   "id": "b2974c0b",
   "metadata": {},
   "outputs": [],
   "source": [
    "import tensorflow as tf\n",
    "from tensorflow.keras.datasets import cifar10\n",
    "from tensorflow.keras.preprocessing.image import ImageDataGenerator\n",
    "from tensorflow.keras.models import Sequential\n",
    "from tensorflow.keras.layers import Dense, Dropout, Activation, Flatten\n",
    "from tensorflow.keras.layers import Conv2D, MaxPooling2D\n",
    "\n",
    "import pickle"
   ]
  },
  {
   "cell_type": "code",
   "execution_count": 2,
   "id": "6ecf2458",
   "metadata": {},
   "outputs": [],
   "source": [
    "pickle_in = open(\"X.pickle\",\"rb\")\n",
    "X = pickle.load(pickle_in)\n",
    "\n",
    "pickle_in = open(\"y.pickle\",\"rb\")\n",
    "y = pickle.load(pickle_in)"
   ]
  },
  {
   "cell_type": "code",
   "execution_count": 3,
   "id": "d72d3676",
   "metadata": {},
   "outputs": [],
   "source": [
    "X = X/255.0\n",
    "\n",
    "\n",
    "model = Sequential()\n",
    "\n",
    "model.add(Conv2D(256, (3,3), input_shape = X.shape[1:]))\n",
    "model.add(Activation('relu'))\n",
    "model.add(MaxPooling2D(pool_size= (2,2)))\n",
    "\n",
    "\n",
    "model.add(Conv2D(256, (3,3)))\n",
    "model.add(Activation('relu'))\n",
    "model.add(MaxPooling2D(pool_size= (2,2)))\n",
    "\n",
    "model.add(Conv2D(256, (3,3)))\n",
    "model.add(Activation('relu'))\n",
    "model.add(MaxPooling2D(pool_size= (2,2)))\n",
    "\n",
    "\n",
    "model.add(Flatten())\n",
    "\n",
    "\n",
    "model.add(Dense(64))\n",
    "\n",
    "\n",
    "model.add(Dense(1))\n",
    "model.add(Activation ('sigmoid'))\n",
    "\n",
    "model.compile(loss='binary_crossentropy',\n",
    "              optimizer='adam',\n",
    "              metrics=['accuracy'])\n",
    "\n"
   ]
  },
  {
   "cell_type": "code",
   "execution_count": 7,
   "id": "6ece8974",
   "metadata": {},
   "outputs": [],
   "source": [
    "import numpy as np\n",
    "\n",
    "y = np.array(y)"
   ]
  },
  {
   "cell_type": "code",
   "execution_count": 8,
   "id": "5cbbfa1c",
   "metadata": {},
   "outputs": [
    {
     "name": "stdout",
     "output_type": "stream",
     "text": [
      "Epoch 1/10\n",
      "66/66 [==============================] - 455s 7s/step - loss: 0.8050 - accuracy: 0.5574 - val_loss: 0.5543 - val_accuracy: 0.7373\n",
      "Epoch 2/10\n",
      "66/66 [==============================] - 1206s 18s/step - loss: 0.5095 - accuracy: 0.7571 - val_loss: 0.4662 - val_accuracy: 0.7828\n",
      "Epoch 3/10\n",
      "66/66 [==============================] - 2149s 33s/step - loss: 0.4928 - accuracy: 0.7775 - val_loss: 0.3961 - val_accuracy: 0.8123\n",
      "Epoch 4/10\n",
      "66/66 [==============================] - 371s 6s/step - loss: 0.3787 - accuracy: 0.8435 - val_loss: 0.3968 - val_accuracy: 0.8445\n",
      "Epoch 5/10\n",
      "66/66 [==============================] - 364s 6s/step - loss: 0.3169 - accuracy: 0.8752 - val_loss: 0.2830 - val_accuracy: 0.8874\n",
      "Epoch 6/10\n",
      "66/66 [==============================] - 454s 7s/step - loss: 0.2538 - accuracy: 0.8928 - val_loss: 0.2593 - val_accuracy: 0.9035\n",
      "Epoch 7/10\n",
      "66/66 [==============================] - 653s 10s/step - loss: 0.2199 - accuracy: 0.9146 - val_loss: 0.2371 - val_accuracy: 0.9276\n",
      "Epoch 8/10\n",
      "66/66 [==============================] - 708s 11s/step - loss: 0.1643 - accuracy: 0.9398 - val_loss: 0.2540 - val_accuracy: 0.9249\n",
      "Epoch 9/10\n",
      "66/66 [==============================] - 544s 8s/step - loss: 0.1807 - accuracy: 0.9326 - val_loss: 0.3134 - val_accuracy: 0.8767\n",
      "Epoch 10/10\n",
      "66/66 [==============================] - 321s 5s/step - loss: 0.1640 - accuracy: 0.9374 - val_loss: 0.2265 - val_accuracy: 0.9196\n"
     ]
    },
    {
     "data": {
      "text/plain": [
       "<keras.callbacks.History at 0x1e0f26c0b50>"
      ]
     },
     "execution_count": 8,
     "metadata": {},
     "output_type": "execute_result"
    }
   ],
   "source": [
    "model.fit(X, y, batch_size= 32, epochs= 10, validation_split= 0.15)"
   ]
  },
  {
   "cell_type": "code",
   "execution_count": null,
   "id": "ee246df0",
   "metadata": {},
   "outputs": [],
   "source": [
    " "
   ]
  }
 ],
 "metadata": {
  "kernelspec": {
   "display_name": "Python 3 (ipykernel)",
   "language": "python",
   "name": "python3"
  },
  "language_info": {
   "codemirror_mode": {
    "name": "ipython",
    "version": 3
   },
   "file_extension": ".py",
   "mimetype": "text/x-python",
   "name": "python",
   "nbconvert_exporter": "python",
   "pygments_lexer": "ipython3",
   "version": "3.9.13"
  }
 },
 "nbformat": 4,
 "nbformat_minor": 5
}
